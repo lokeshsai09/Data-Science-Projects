{
 "cells": [
  {
   "cell_type": "code",
   "execution_count": null,
   "metadata": {},
   "outputs": [],
   "source": [
    "import pandas as pd\n",
    " \n",
    "# reading the CSV file and storing it to dataframe 'raw_data'\n",
    "raw_data = pd.read_csv('../data-raw/raw_data.csv')\n",
    "\n",
    "#displaying dataframe\n",
    "print(raw_data)"
   ]
  }
 ],
 "metadata": {
  "language_info": {
   "name": "python"
  },
  "orig_nbformat": 4
 },
 "nbformat": 4,
 "nbformat_minor": 2
}
